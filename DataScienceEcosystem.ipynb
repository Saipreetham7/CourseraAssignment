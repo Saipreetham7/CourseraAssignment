{
 "cells": [
  {
   "cell_type": "markdown",
   "id": "08d219a3-f515-47f0-a880-09ed85a967b8",
   "metadata": {},
   "source": [
    "# Data Science Tools and Ecosystem"
   ]
  },
  {
   "cell_type": "markdown",
   "id": "a012a4ed-e45d-4dbf-aa04-02812e69de94",
   "metadata": {},
   "source": [
    "In this notebook, Data Science tools and Ecosystem are summarized"
   ]
  },
  {
   "cell_type": "markdown",
   "id": "a475157f-858e-470c-b7cf-6e6762adda6a",
   "metadata": {},
   "source": [
    "__Objectives:__\n",
    "* List popular languages for Data Science\n",
    "* List popular libraries for Data Science\n",
    "* List some popular tools for Data Science\n"
   ]
  },
  {
   "cell_type": "markdown",
   "id": "e3ce8e11-9dbb-4802-880b-e5e8838e0eba",
   "metadata": {},
   "source": [
    "Some of the popular languages that Data Scientists use are:\n",
    "1. Python\n",
    "2. R\n",
    "3. SQL\n",
    "4. Java\n",
    "5. Scala"
   ]
  },
  {
   "cell_type": "markdown",
   "id": "a8254b17-010c-46b4-8bd1-e9c3e83518e3",
   "metadata": {},
   "source": [
    "Some of the commonly used libraries used by Data Scientists include:\n",
    "1. TensorFlow\n",
    "2. Pandas\n",
    "3. Numpy\n",
    "4. Matplotlib\n",
    "5. Seaborn"
   ]
  },
  {
   "cell_type": "markdown",
   "id": "c58d4508-2728-4d2a-b6a3-8c2b7e0f89a0",
   "metadata": {},
   "source": [
    "| Data Science Tools |\n",
    "|--------------------|\n",
    "| Jupyter |\n",
    "| Jupyter Lab |\n",
    "| Apache Zeppelin |\n",
    "| RStudio |\n",
    "| Spyder |"
   ]
  },
  {
   "cell_type": "markdown",
   "id": "7427e3ac-9da0-4954-9513-37d6fba6bde2",
   "metadata": {},
   "source": [
    "### Below are a few examples of evaluating arithmetic expressions in Python"
   ]
  },
  {
   "cell_type": "code",
   "execution_count": 1,
   "id": "2fa7a263-9940-490d-85b0-043ac57ec273",
   "metadata": {
    "tags": []
   },
   "outputs": [
    {
     "data": {
      "text/plain": [
       "17"
      ]
     },
     "execution_count": 1,
     "metadata": {},
     "output_type": "execute_result"
    }
   ],
   "source": [
    "# This is a simple arithmetic expression to multiply then add integers\n",
    "(3*4)+5"
   ]
  },
  {
   "cell_type": "code",
   "execution_count": 2,
   "id": "8f9323fe-c4ee-4a05-b535-00541ce96612",
   "metadata": {
    "tags": []
   },
   "outputs": [
    {
     "data": {
      "text/plain": [
       "3.3333333333333335"
      ]
     },
     "execution_count": 2,
     "metadata": {},
     "output_type": "execute_result"
    }
   ],
   "source": [
    "# This will convert 200 minutes to hours by diving by 60\n",
    "200/60"
   ]
  },
  {
   "cell_type": "markdown",
   "id": "adebae32-8d0e-4bf2-97a2-352d7e4dbc0c",
   "metadata": {},
   "source": [
    "## Author\n",
    "Ganesh Mahadev"
   ]
  }
 ],
 "metadata": {
  "kernelspec": {
   "display_name": "Python",
   "language": "python",
   "name": "conda-env-python-py"
  },
  "language_info": {
   "codemirror_mode": {
    "name": "ipython",
    "version": 3
   },
   "file_extension": ".py",
   "mimetype": "text/x-python",
   "name": "python",
   "nbconvert_exporter": "python",
   "pygments_lexer": "ipython3",
   "version": "3.7.12"
  }
 },
 "nbformat": 4,
 "nbformat_minor": 5
}
